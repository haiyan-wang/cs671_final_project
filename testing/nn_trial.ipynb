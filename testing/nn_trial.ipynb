{
 "cells": [
  {
   "cell_type": "code",
   "execution_count": 12,
   "metadata": {},
   "outputs": [],
   "source": [
    "### Libraries\n",
    "\n",
    "from tqdm import tqdm_notebook as tqdm\n",
    "import numpy as np\n",
    "import pandas as pd\n",
    "import matplotlib.pyplot as plt\n",
    "import random\n",
    "import os\n",
    "\n",
    "import torch\n",
    "import torch.nn as nn\n",
    "import torch.nn.functional as F\n",
    "\n",
    "import torch.nn as nn\n",
    "import torch.optim as optim"
   ]
  },
  {
   "cell_type": "code",
   "execution_count": 13,
   "metadata": {},
   "outputs": [],
   "source": [
    "### Setting Random Seeds\n",
    "\n",
    "def set_all_seeds(RANDOM_SEED):\n",
    "    random.seed(RANDOM_SEED)     # python random generator\n",
    "    np.random.seed(RANDOM_SEED)  # numpy random generator\n",
    "\n",
    "    torch.manual_seed(RANDOM_SEED)\n",
    "    torch.cuda.manual_seed_all(RANDOM_SEED)\n",
    "\n",
    "    torch.backends.cudnn.deterministic = True\n",
    "    torch.backends.cudnn.benchmark = False\n",
    "set_all_seeds(42)"
   ]
  },
  {
   "cell_type": "code",
   "execution_count": 22,
   "metadata": {},
   "outputs": [],
   "source": [
    "### Read raw data\n",
    "\n",
    "data_path = f'{os.path.dirname(os.getcwd())}/data'\n",
    "\n",
    "train_raw = pd.read_csv(f'{data_path}/train.csv')\n",
    "test_raw = pd.read_csv(f'{data_path}/test.csv')"
   ]
  },
  {
   "cell_type": "code",
   "execution_count": 29,
   "metadata": {},
   "outputs": [],
   "source": [
    "### Clean Property Information\n",
    "\n",
    "def clean(df: pd.DataFrame):\n",
    "    # Drop NaNs from beds and bathrooms_text columns\n",
    "    df.dropna(subset = ['beds', 'bathrooms_text'], inplace = True)\n",
    "\n",
    "    # Group hotel and shared rooms into 'other' category\n",
    "    rooms_regrouped = df['room_type'].where((df['room_type'] == 'Entire home/apt') | (df['room_type'] == 'Private room'), 'Other')\n",
    "    df['rooms_regrouped'] = rooms_regrouped\n",
    "    df['entire_bin'] = np.where(df['rooms_regrouped'] == 'Entire home/apt', 1, 0)\n",
    "    df['private_bin'] = np.where(df['rooms_regrouped'] == 'Private room', 1, 0)\n",
    "    df['other_room_bin'] = np.where(df['rooms_regrouped'] == 'Other', 1, 0)\n",
    "\n",
    "    # Extract 'shared' keyword from bathrooms_text column\n",
    "    def shared_bathrooms(row):\n",
    "        if type(row['bathrooms_text']) is not str or 'shared' not in row['bathrooms_text']:\n",
    "            return 0\n",
    "        return 1\n",
    "    df['bathrooms_shared'] = df.apply(shared_bathrooms, axis = 1)\n",
    "\n",
    "    # Extract number of baths from bathrooms_text column\n",
    "    def extract_num(row):\n",
    "        char_arr = np.array(row['bathrooms_text'].split())\n",
    "        res = char_arr[np.char.isnumeric(char_arr)].astype(float)\n",
    "        return res[0] if res.size != 0 else 0.5 # This is very specific but works for the bathrooms feature, NEEDS FIXING BEFORE APPLYING TO TEST SET\n",
    "    df['bathrooms_num'] = df.apply(extract_num, axis = 1)\n",
    "\n",
    "    # Extract number of amenities from amenities column\n",
    "    def extract_amenities(row):\n",
    "        return set(row['amenities'][2:-2].split('''\", \"'''))\n",
    "    df['amenities_ref'] = df.apply(extract_amenities, axis = 1)\n",
    "    def count_amenities(row):\n",
    "        return len(row['amenities_ref'])\n",
    "    df['amenities_count'] = df.apply(count_amenities, axis = 1)\n"
   ]
  },
  {
   "cell_type": "code",
   "execution_count": 24,
   "metadata": {},
   "outputs": [],
   "source": [
    "### Drop non-important features\n",
    "\n",
    "important_features = ['host_listings_count', 'calculated_host_listings_count_private_rooms', 'entire_bin', 'private_bin', 'other_room_bin', 'bathrooms_shared', 'bathrooms_num', 'amenities_count', 'beds', 'accommodates', 'longitude', 'number_of_reviews', 'number_of_reviews_ltm', 'number_of_reviews_l30d', 'availability_30', 'availability_365']\n",
    "train_df, test_df = clean(train_raw), clean(test_raw)"
   ]
  },
  {
   "cell_type": "code",
   "execution_count": null,
   "metadata": {},
   "outputs": [],
   "source": [
    "class AirbnbClassifier(nn.module)"
   ]
  }
 ],
 "metadata": {
  "kernelspec": {
   "display_name": "cs671_final_project",
   "language": "python",
   "name": "python3"
  },
  "language_info": {
   "codemirror_mode": {
    "name": "ipython",
    "version": 3
   },
   "file_extension": ".py",
   "mimetype": "text/x-python",
   "name": "python",
   "nbconvert_exporter": "python",
   "pygments_lexer": "ipython3",
   "version": "3.9.18"
  }
 },
 "nbformat": 4,
 "nbformat_minor": 2
}
